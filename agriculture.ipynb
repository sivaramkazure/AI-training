{
  "nbformat": 4,
  "nbformat_minor": 0,
  "metadata": {
    "colab": {
      "provenance": []
    },
    "kernelspec": {
      "name": "python3",
      "display_name": "Python 3"
    },
    "language_info": {
      "name": "python"
    }
  },
  "cells": [
    {
      "cell_type": "code",
      "execution_count": 2,
      "metadata": {
        "colab": {
          "base_uri": "https://localhost:8080/",
          "height": 206
        },
        "id": "lasIPazUEU3Y",
        "outputId": "790403ef-b203-4128-ea35-cd65cfbbd5ca"
      },
      "outputs": [
        {
          "output_type": "execute_result",
          "data": {
            "text/plain": [
              "    N   P   K  temperature   humidity        ph    rainfall label\n",
              "0  90  42  43    20.879744  82.002744  6.502985  202.935536  rice\n",
              "1  85  58  41    21.770462  80.319644  7.038096  226.655537  rice\n",
              "2  60  55  44    23.004459  82.320763  7.840207  263.964248  rice\n",
              "3  74  35  40    26.491096  80.158363  6.980401  242.864034  rice\n",
              "4  78  42  42    20.130175  81.604873  7.628473  262.717340  rice"
            ],
            "text/html": [
              "\n",
              "  <div id=\"df-282a0877-e8fe-4e2d-a541-3efbc5086fb5\" class=\"colab-df-container\">\n",
              "    <div>\n",
              "<style scoped>\n",
              "    .dataframe tbody tr th:only-of-type {\n",
              "        vertical-align: middle;\n",
              "    }\n",
              "\n",
              "    .dataframe tbody tr th {\n",
              "        vertical-align: top;\n",
              "    }\n",
              "\n",
              "    .dataframe thead th {\n",
              "        text-align: right;\n",
              "    }\n",
              "</style>\n",
              "<table border=\"1\" class=\"dataframe\">\n",
              "  <thead>\n",
              "    <tr style=\"text-align: right;\">\n",
              "      <th></th>\n",
              "      <th>N</th>\n",
              "      <th>P</th>\n",
              "      <th>K</th>\n",
              "      <th>temperature</th>\n",
              "      <th>humidity</th>\n",
              "      <th>ph</th>\n",
              "      <th>rainfall</th>\n",
              "      <th>label</th>\n",
              "    </tr>\n",
              "  </thead>\n",
              "  <tbody>\n",
              "    <tr>\n",
              "      <th>0</th>\n",
              "      <td>90</td>\n",
              "      <td>42</td>\n",
              "      <td>43</td>\n",
              "      <td>20.879744</td>\n",
              "      <td>82.002744</td>\n",
              "      <td>6.502985</td>\n",
              "      <td>202.935536</td>\n",
              "      <td>rice</td>\n",
              "    </tr>\n",
              "    <tr>\n",
              "      <th>1</th>\n",
              "      <td>85</td>\n",
              "      <td>58</td>\n",
              "      <td>41</td>\n",
              "      <td>21.770462</td>\n",
              "      <td>80.319644</td>\n",
              "      <td>7.038096</td>\n",
              "      <td>226.655537</td>\n",
              "      <td>rice</td>\n",
              "    </tr>\n",
              "    <tr>\n",
              "      <th>2</th>\n",
              "      <td>60</td>\n",
              "      <td>55</td>\n",
              "      <td>44</td>\n",
              "      <td>23.004459</td>\n",
              "      <td>82.320763</td>\n",
              "      <td>7.840207</td>\n",
              "      <td>263.964248</td>\n",
              "      <td>rice</td>\n",
              "    </tr>\n",
              "    <tr>\n",
              "      <th>3</th>\n",
              "      <td>74</td>\n",
              "      <td>35</td>\n",
              "      <td>40</td>\n",
              "      <td>26.491096</td>\n",
              "      <td>80.158363</td>\n",
              "      <td>6.980401</td>\n",
              "      <td>242.864034</td>\n",
              "      <td>rice</td>\n",
              "    </tr>\n",
              "    <tr>\n",
              "      <th>4</th>\n",
              "      <td>78</td>\n",
              "      <td>42</td>\n",
              "      <td>42</td>\n",
              "      <td>20.130175</td>\n",
              "      <td>81.604873</td>\n",
              "      <td>7.628473</td>\n",
              "      <td>262.717340</td>\n",
              "      <td>rice</td>\n",
              "    </tr>\n",
              "  </tbody>\n",
              "</table>\n",
              "</div>\n",
              "    <div class=\"colab-df-buttons\">\n",
              "\n",
              "  <div class=\"colab-df-container\">\n",
              "    <button class=\"colab-df-convert\" onclick=\"convertToInteractive('df-282a0877-e8fe-4e2d-a541-3efbc5086fb5')\"\n",
              "            title=\"Convert this dataframe to an interactive table.\"\n",
              "            style=\"display:none;\">\n",
              "\n",
              "  <svg xmlns=\"http://www.w3.org/2000/svg\" height=\"24px\" viewBox=\"0 -960 960 960\">\n",
              "    <path d=\"M120-120v-720h720v720H120Zm60-500h600v-160H180v160Zm220 220h160v-160H400v160Zm0 220h160v-160H400v160ZM180-400h160v-160H180v160Zm440 0h160v-160H620v160ZM180-180h160v-160H180v160Zm440 0h160v-160H620v160Z\"/>\n",
              "  </svg>\n",
              "    </button>\n",
              "\n",
              "  <style>\n",
              "    .colab-df-container {\n",
              "      display:flex;\n",
              "      gap: 12px;\n",
              "    }\n",
              "\n",
              "    .colab-df-convert {\n",
              "      background-color: #E8F0FE;\n",
              "      border: none;\n",
              "      border-radius: 50%;\n",
              "      cursor: pointer;\n",
              "      display: none;\n",
              "      fill: #1967D2;\n",
              "      height: 32px;\n",
              "      padding: 0 0 0 0;\n",
              "      width: 32px;\n",
              "    }\n",
              "\n",
              "    .colab-df-convert:hover {\n",
              "      background-color: #E2EBFA;\n",
              "      box-shadow: 0px 1px 2px rgba(60, 64, 67, 0.3), 0px 1px 3px 1px rgba(60, 64, 67, 0.15);\n",
              "      fill: #174EA6;\n",
              "    }\n",
              "\n",
              "    .colab-df-buttons div {\n",
              "      margin-bottom: 4px;\n",
              "    }\n",
              "\n",
              "    [theme=dark] .colab-df-convert {\n",
              "      background-color: #3B4455;\n",
              "      fill: #D2E3FC;\n",
              "    }\n",
              "\n",
              "    [theme=dark] .colab-df-convert:hover {\n",
              "      background-color: #434B5C;\n",
              "      box-shadow: 0px 1px 3px 1px rgba(0, 0, 0, 0.15);\n",
              "      filter: drop-shadow(0px 1px 2px rgba(0, 0, 0, 0.3));\n",
              "      fill: #FFFFFF;\n",
              "    }\n",
              "  </style>\n",
              "\n",
              "    <script>\n",
              "      const buttonEl =\n",
              "        document.querySelector('#df-282a0877-e8fe-4e2d-a541-3efbc5086fb5 button.colab-df-convert');\n",
              "      buttonEl.style.display =\n",
              "        google.colab.kernel.accessAllowed ? 'block' : 'none';\n",
              "\n",
              "      async function convertToInteractive(key) {\n",
              "        const element = document.querySelector('#df-282a0877-e8fe-4e2d-a541-3efbc5086fb5');\n",
              "        const dataTable =\n",
              "          await google.colab.kernel.invokeFunction('convertToInteractive',\n",
              "                                                    [key], {});\n",
              "        if (!dataTable) return;\n",
              "\n",
              "        const docLinkHtml = 'Like what you see? Visit the ' +\n",
              "          '<a target=\"_blank\" href=https://colab.research.google.com/notebooks/data_table.ipynb>data table notebook</a>'\n",
              "          + ' to learn more about interactive tables.';\n",
              "        element.innerHTML = '';\n",
              "        dataTable['output_type'] = 'display_data';\n",
              "        await google.colab.output.renderOutput(dataTable, element);\n",
              "        const docLink = document.createElement('div');\n",
              "        docLink.innerHTML = docLinkHtml;\n",
              "        element.appendChild(docLink);\n",
              "      }\n",
              "    </script>\n",
              "  </div>\n",
              "\n",
              "\n",
              "<div id=\"df-51f515ff-a5af-46cf-91c1-7c7015e23c56\">\n",
              "  <button class=\"colab-df-quickchart\" onclick=\"quickchart('df-51f515ff-a5af-46cf-91c1-7c7015e23c56')\"\n",
              "            title=\"Suggest charts\"\n",
              "            style=\"display:none;\">\n",
              "\n",
              "<svg xmlns=\"http://www.w3.org/2000/svg\" height=\"24px\"viewBox=\"0 0 24 24\"\n",
              "     width=\"24px\">\n",
              "    <g>\n",
              "        <path d=\"M19 3H5c-1.1 0-2 .9-2 2v14c0 1.1.9 2 2 2h14c1.1 0 2-.9 2-2V5c0-1.1-.9-2-2-2zM9 17H7v-7h2v7zm4 0h-2V7h2v10zm4 0h-2v-4h2v4z\"/>\n",
              "    </g>\n",
              "</svg>\n",
              "  </button>\n",
              "\n",
              "<style>\n",
              "  .colab-df-quickchart {\n",
              "      --bg-color: #E8F0FE;\n",
              "      --fill-color: #1967D2;\n",
              "      --hover-bg-color: #E2EBFA;\n",
              "      --hover-fill-color: #174EA6;\n",
              "      --disabled-fill-color: #AAA;\n",
              "      --disabled-bg-color: #DDD;\n",
              "  }\n",
              "\n",
              "  [theme=dark] .colab-df-quickchart {\n",
              "      --bg-color: #3B4455;\n",
              "      --fill-color: #D2E3FC;\n",
              "      --hover-bg-color: #434B5C;\n",
              "      --hover-fill-color: #FFFFFF;\n",
              "      --disabled-bg-color: #3B4455;\n",
              "      --disabled-fill-color: #666;\n",
              "  }\n",
              "\n",
              "  .colab-df-quickchart {\n",
              "    background-color: var(--bg-color);\n",
              "    border: none;\n",
              "    border-radius: 50%;\n",
              "    cursor: pointer;\n",
              "    display: none;\n",
              "    fill: var(--fill-color);\n",
              "    height: 32px;\n",
              "    padding: 0;\n",
              "    width: 32px;\n",
              "  }\n",
              "\n",
              "  .colab-df-quickchart:hover {\n",
              "    background-color: var(--hover-bg-color);\n",
              "    box-shadow: 0 1px 2px rgba(60, 64, 67, 0.3), 0 1px 3px 1px rgba(60, 64, 67, 0.15);\n",
              "    fill: var(--button-hover-fill-color);\n",
              "  }\n",
              "\n",
              "  .colab-df-quickchart-complete:disabled,\n",
              "  .colab-df-quickchart-complete:disabled:hover {\n",
              "    background-color: var(--disabled-bg-color);\n",
              "    fill: var(--disabled-fill-color);\n",
              "    box-shadow: none;\n",
              "  }\n",
              "\n",
              "  .colab-df-spinner {\n",
              "    border: 2px solid var(--fill-color);\n",
              "    border-color: transparent;\n",
              "    border-bottom-color: var(--fill-color);\n",
              "    animation:\n",
              "      spin 1s steps(1) infinite;\n",
              "  }\n",
              "\n",
              "  @keyframes spin {\n",
              "    0% {\n",
              "      border-color: transparent;\n",
              "      border-bottom-color: var(--fill-color);\n",
              "      border-left-color: var(--fill-color);\n",
              "    }\n",
              "    20% {\n",
              "      border-color: transparent;\n",
              "      border-left-color: var(--fill-color);\n",
              "      border-top-color: var(--fill-color);\n",
              "    }\n",
              "    30% {\n",
              "      border-color: transparent;\n",
              "      border-left-color: var(--fill-color);\n",
              "      border-top-color: var(--fill-color);\n",
              "      border-right-color: var(--fill-color);\n",
              "    }\n",
              "    40% {\n",
              "      border-color: transparent;\n",
              "      border-right-color: var(--fill-color);\n",
              "      border-top-color: var(--fill-color);\n",
              "    }\n",
              "    60% {\n",
              "      border-color: transparent;\n",
              "      border-right-color: var(--fill-color);\n",
              "    }\n",
              "    80% {\n",
              "      border-color: transparent;\n",
              "      border-right-color: var(--fill-color);\n",
              "      border-bottom-color: var(--fill-color);\n",
              "    }\n",
              "    90% {\n",
              "      border-color: transparent;\n",
              "      border-bottom-color: var(--fill-color);\n",
              "    }\n",
              "  }\n",
              "</style>\n",
              "\n",
              "  <script>\n",
              "    async function quickchart(key) {\n",
              "      const quickchartButtonEl =\n",
              "        document.querySelector('#' + key + ' button');\n",
              "      quickchartButtonEl.disabled = true;  // To prevent multiple clicks.\n",
              "      quickchartButtonEl.classList.add('colab-df-spinner');\n",
              "      try {\n",
              "        const charts = await google.colab.kernel.invokeFunction(\n",
              "            'suggestCharts', [key], {});\n",
              "      } catch (error) {\n",
              "        console.error('Error during call to suggestCharts:', error);\n",
              "      }\n",
              "      quickchartButtonEl.classList.remove('colab-df-spinner');\n",
              "      quickchartButtonEl.classList.add('colab-df-quickchart-complete');\n",
              "    }\n",
              "    (() => {\n",
              "      let quickchartButtonEl =\n",
              "        document.querySelector('#df-51f515ff-a5af-46cf-91c1-7c7015e23c56 button');\n",
              "      quickchartButtonEl.style.display =\n",
              "        google.colab.kernel.accessAllowed ? 'block' : 'none';\n",
              "    })();\n",
              "  </script>\n",
              "</div>\n",
              "\n",
              "    </div>\n",
              "  </div>\n"
            ],
            "application/vnd.google.colaboratory.intrinsic+json": {
              "type": "dataframe",
              "variable_name": "data",
              "summary": "{\n  \"name\": \"data\",\n  \"rows\": 2200,\n  \"fields\": [\n    {\n      \"column\": \"N\",\n      \"properties\": {\n        \"dtype\": \"number\",\n        \"std\": 36,\n        \"min\": 0,\n        \"max\": 140,\n        \"num_unique_values\": 137,\n        \"samples\": [\n          106,\n          101,\n          88\n        ],\n        \"semantic_type\": \"\",\n        \"description\": \"\"\n      }\n    },\n    {\n      \"column\": \"P\",\n      \"properties\": {\n        \"dtype\": \"number\",\n        \"std\": 32,\n        \"min\": 5,\n        \"max\": 145,\n        \"num_unique_values\": 117,\n        \"samples\": [\n          69,\n          37,\n          11\n        ],\n        \"semantic_type\": \"\",\n        \"description\": \"\"\n      }\n    },\n    {\n      \"column\": \"K\",\n      \"properties\": {\n        \"dtype\": \"number\",\n        \"std\": 50,\n        \"min\": 5,\n        \"max\": 205,\n        \"num_unique_values\": 73,\n        \"samples\": [\n          42,\n          12,\n          15\n        ],\n        \"semantic_type\": \"\",\n        \"description\": \"\"\n      }\n    },\n    {\n      \"column\": \"temperature\",\n      \"properties\": {\n        \"dtype\": \"number\",\n        \"std\": 5.063748599958843,\n        \"min\": 8.825674745,\n        \"max\": 43.67549305,\n        \"num_unique_values\": 2200,\n        \"samples\": [\n          29.49401389,\n          26.1793464,\n          43.36051537\n        ],\n        \"semantic_type\": \"\",\n        \"description\": \"\"\n      }\n    },\n    {\n      \"column\": \"humidity\",\n      \"properties\": {\n        \"dtype\": \"number\",\n        \"std\": 22.263811589761083,\n        \"min\": 14.25803981,\n        \"max\": 99.98187601,\n        \"num_unique_values\": 2200,\n        \"samples\": [\n          94.72981338,\n          86.52258079,\n          93.35191636\n        ],\n        \"semantic_type\": \"\",\n        \"description\": \"\"\n      }\n    },\n    {\n      \"column\": \"ph\",\n      \"properties\": {\n        \"dtype\": \"number\",\n        \"std\": 0.7739376880298733,\n        \"min\": 3.504752314,\n        \"max\": 9.93509073,\n        \"num_unique_values\": 2200,\n        \"samples\": [\n          6.185053234,\n          6.25933595,\n          6.941496806\n        ],\n        \"semantic_type\": \"\",\n        \"description\": \"\"\n      }\n    },\n    {\n      \"column\": \"rainfall\",\n      \"properties\": {\n        \"dtype\": \"number\",\n        \"std\": 54.95838852487813,\n        \"min\": 20.21126747,\n        \"max\": 298.5601175,\n        \"num_unique_values\": 2200,\n        \"samples\": [\n          26.30820876,\n          49.43050977,\n          114.778071\n        ],\n        \"semantic_type\": \"\",\n        \"description\": \"\"\n      }\n    },\n    {\n      \"column\": \"label\",\n      \"properties\": {\n        \"dtype\": \"category\",\n        \"num_unique_values\": 22,\n        \"samples\": [\n          \"rice\",\n          \"watermelon\",\n          \"lentil\"\n        ],\n        \"semantic_type\": \"\",\n        \"description\": \"\"\n      }\n    }\n  ]\n}"
            }
          },
          "metadata": {},
          "execution_count": 2
        }
      ],
      "source": [
        "import pandas as pd\n",
        "URL = 'https://raw.githubusercontent.com/sivaramkazure/AI-training/main/crop_recommendation.csv'\n",
        "data = pd.read_csv(URL, header=0)\n",
        "data.head()"
      ]
    },
    {
      "cell_type": "code",
      "source": [
        "y = data['label']\n",
        "x = data.iloc[:, :-1]\n"
      ],
      "metadata": {
        "id": "7FvGn8IHEvN7"
      },
      "execution_count": 9,
      "outputs": []
    },
    {
      "cell_type": "code",
      "source": [
        "from sklearn.preprocessing import LabelEncoder\n",
        "from sklearn import preprocessing\n",
        "le = LabelEncoder()\n",
        "encode = preprocessing.LabelEncoder()\n",
        "y = encode.fit_transform(y)"
      ],
      "metadata": {
        "id": "Kqv2XQIBFCxL"
      },
      "execution_count": 12,
      "outputs": []
    },
    {
      "cell_type": "code",
      "source": [
        "from sklearn.model_selection import train_test_split\n",
        "xtrain, xtest, ytrain, ytest = train_test_split(x, y, test_size=0.20)\n",
        "ytest"
      ],
      "metadata": {
        "colab": {
          "base_uri": "https://localhost:8080/"
        },
        "id": "5peNOvKHFuKC",
        "outputId": "000ac96a-6860-4cf4-f3db-44849780709a"
      },
      "execution_count": 15,
      "outputs": [
        {
          "output_type": "execute_result",
          "data": {
            "text/plain": [
              "array([21,  4,  1, 11,  2, 18, 13, 15, 18,  0,  3,  1,  9, 17,  0,  8, 20,\n",
              "       21, 17,  4,  6,  0, 12, 12, 16,  0,  0, 13,  2, 13, 16,  8,  0, 12,\n",
              "        6, 14, 16,  3,  6, 19,  2, 16, 16, 14, 12,  0,  1,  1,  2, 10,  5,\n",
              "       10,  4,  0,  1, 18,  6, 20,  3, 20,  1, 18, 15, 16, 17,  1,  4, 20,\n",
              "       21,  8, 16, 16,  2,  3,  5,  7, 12, 21, 16, 14, 14,  9, 16, 13, 17,\n",
              "       20,  6, 20, 17, 21, 19, 12,  5, 18, 12, 19,  2,  7, 16, 18,  7, 17,\n",
              "        6,  6,  4, 18, 18, 17,  3, 20, 15,  9,  6,  1, 14, 16, 19, 12, 15,\n",
              "        1, 14,  5, 21, 20, 18,  5, 17,  2, 18, 15,  2,  0, 10,  3,  3, 11,\n",
              "       10, 19, 20, 12,  5, 15, 19, 16,  0, 12, 17, 18,  6,  7, 18, 10, 15,\n",
              "        1,  7, 13,  6,  9,  0,  8, 14,  0, 21, 10,  2, 15, 19,  2,  0,  9,\n",
              "       13,  9, 20,  3, 17, 20,  8, 10,  3,  6, 11,  3,  7,  5, 11, 13,  5,\n",
              "        6, 13, 16, 19,  9, 15, 11, 15,  9, 17, 17, 21, 16, 11, 11, 15, 19,\n",
              "        1, 14,  4, 18, 14,  0, 21, 10, 21,  5,  4,  8,  0, 18, 12, 12,  3,\n",
              "        7,  4, 18, 10, 11,  9,  0,  0, 10, 16, 18, 15,  6, 15, 18, 14, 18,\n",
              "        2,  1,  2,  6,  5, 12, 16, 20,  1, 15, 16,  8,  3, 13,  4,  9, 20,\n",
              "       21,  8,  7, 14, 16, 12, 21, 16, 15,  9, 18, 13,  0, 21,  7, 20,  0,\n",
              "       18, 14, 16, 15,  7, 15, 18, 18,  5,  3,  3,  1, 21,  3,  4,  5,  5,\n",
              "       20, 18, 18, 17,  9,  7,  7, 11,  8, 20,  3,  9,  6, 14,  9,  8, 16,\n",
              "        3,  5,  8, 21, 12, 21, 15, 18,  9,  3,  1,  5, 15, 21, 15,  6,  7,\n",
              "       16,  6, 19,  1,  8, 21, 19,  4, 16, 19, 10,  2,  7, 18, 16,  7,  7,\n",
              "        6, 17, 12,  4, 13,  0, 19,  4, 19,  6,  2, 10,  2, 16, 19, 20, 18,\n",
              "       17,  1, 17, 21,  4, 17, 12,  4, 18,  2, 21, 15, 14,  9,  4, 14, 15,\n",
              "        7, 20,  5, 20,  4,  7,  9, 14, 20, 13, 12, 11,  0, 19, 20, 15, 19,\n",
              "        3, 15, 16, 17,  8,  2, 12,  3,  2,  1,  6, 17,  4,  9, 13,  2,  6,\n",
              "        2,  1,  2, 19, 16,  9,  8,  6,  3, 17, 21,  8, 13,  3,  5, 10, 16,\n",
              "       13,  1, 14, 18, 15,  3, 20,  8, 11,  6, 18,  4, 19, 10,  7])"
            ]
          },
          "metadata": {},
          "execution_count": 15
        }
      ]
    },
    {
      "cell_type": "code",
      "source": [
        "from sklearn.tree import DecisionTreeClassifier\n",
        "from sklearn.ensemble import RandomForestClassifier\n",
        "from sklearn.neighbors import KNeighborsClassifier\n",
        "from sklearn.naive_bayes import GaussianNB\n",
        "from sklearn.svm import SVC\n",
        "from sklearn.metrics import roc_auc_score\n",
        "\n",
        "# in case of trees-> we could fluctuate the depth of tree\n",
        "# in case of ensembles (forests or jungles) -> we could fluctuate no. of trees\n",
        "\n",
        "# Hyperparameters-> values that we adjust from our side as AI/ML engineers\n",
        "# -> ASSUMPTIONS from our end\n",
        "# -> these adjustments result in different models out of same algorithms!\n",
        "\n",
        "my_algos = {\n",
        "    \"DecisionTree100\": DecisionTreeClassifier(max_depth=100),\n",
        "    \"DecisionTree150\": DecisionTreeClassifier(max_depth=150),\n",
        "    \"DecisionTree10\": DecisionTreeClassifier(max_depth=10),\n",
        "    \"DecisionTree15\": DecisionTreeClassifier(max_depth=15),\n",
        "    \"DecisionTree200\": DecisionTreeClassifier(max_depth=200),\n",
        "    \"DecisionTree250\": DecisionTreeClassifier(max_depth=250),\n",
        "    \"DecisionTree50\": DecisionTreeClassifier(max_depth=50),\n",
        "    \"RandomForest10\": RandomForestClassifier(n_estimators=10),\n",
        "    \"RandomForest15\": RandomForestClassifier(n_estimators=15),\n",
        "    \"RandomForest100\": RandomForestClassifier(n_estimators=100),\n",
        "    \"RandomForest150\": RandomForestClassifier(n_estimators=150),\n",
        "    \"RandomForest200\": RandomForestClassifier(n_estimators=200),\n",
        "    \"RandomForest250\": RandomForestClassifier(n_estimators=250),\n",
        "    \"RandomForest300\": RandomForestClassifier(n_estimators=300),\n",
        "     \"RandomForest350\": RandomForestClassifier(n_estimators=350),\n",
        "    \"KNN\" : KNeighborsClassifier(),\n",
        "    \"Sherlock\" : GaussianNB(),\n",
        "    \"Support Vector Machine with linear\" : SVC(kernel='linear'),\n",
        "    \"Support Vector Machines with RBF\": SVC(kernel='rbf')\n",
        "}\n",
        "from sklearn.metrics import accuracy_score, f1_score, precision_score, recall_score,roc_auc_score\n"
      ],
      "metadata": {
        "id": "xaPrS8BiFlDX"
      },
      "execution_count": 17,
      "outputs": []
    },
    {
      "cell_type": "code",
      "source": [
        "best_model_acc = None\n",
        "best_model_f1 = None\n",
        "best_model_p = None\n",
        "best_model_r = None\n",
        "best_model_auc = None\n",
        "\n",
        "best_model_name_acc = \"\"\n",
        "best_model_name_f1 = \"\"\n",
        "best_model_name_p = \"\"\n",
        "best_model_name_r = \"\"\n",
        "best_model_name_auc = \"\"\n",
        "\n",
        "\n",
        "best_acc = -1\n",
        "best_f1 = -1\n",
        "best_precision = -1\n",
        "best_recall = -1\n",
        "best_auc = -1\n",
        "\n",
        "all_accs = []\n",
        "all_f1_scores = []\n",
        "all_precions = []\n",
        "all_recalls = []\n",
        "all_aucs = []\n",
        "for algo_name, algo in my_algos.items():\n",
        "  print('Algorithm considered = ' + algo_name)\n",
        "  model = algo\n",
        "  model.fit(xtrain, ytrain)\n",
        "  p = model.predict(xtest)\n",
        "  a_score = accuracy_score(p, ytest)\n",
        "  p_score = precision_score(p, ytest, average='macro')\n",
        "  r_score = recall_score(p, ytest, average='macro')\n",
        "  f_score = f1_score(p, ytest, average='macro')\n",
        "\n",
        "\n",
        "  all_accs.append(a_score)\n",
        "  all_f1_scores.append(f_score)\n",
        "  all_precions.append(p_score)\n",
        "  all_recalls.append(r_score)\n",
        "  print('Accuracy = ' + str(a_score))\n",
        "  print('Precision = ' + str(p_score))\n",
        "  print('Recall = ' + str(r_score))\n",
        "  print('F1 Score = ' + str(f_score))\n",
        "\n",
        "  if a_score == 1.0: # if any model is 100% accurate, its a sign of overfitting\n",
        "    print('Overfitting')\n",
        "\n",
        "  else:\n",
        "    if a_score > best_acc:\n",
        "      best_acc = a_score\n",
        "      best_model_acc = algo\n",
        "      best_model_name_acc = algo_name\n",
        "    if f_score > best_f1:\n",
        "      best_f1 = f_score\n",
        "\n",
        "      best_model_f1 = algo\n",
        "      best_model_name_f1 = algo_name\n",
        "    if p_score > best_precision:\n",
        "      best_precision = p_score\n",
        "      best_model_p = algo\n",
        "      best_model_name_p = algo_name\n",
        "    if r_score > best_recall:\n",
        "      best_recall = r_score\n",
        "      best_model_r = algo\n",
        "      best_model_name_r = algo_name\n",
        "  print('*************')\n",
        "  print()"
      ],
      "metadata": {
        "colab": {
          "base_uri": "https://localhost:8080/"
        },
        "id": "5VGx3lBMGOm5",
        "outputId": "da275868-9957-4325-880f-cf5550fa5b53"
      },
      "execution_count": 30,
      "outputs": [
        {
          "output_type": "stream",
          "name": "stdout",
          "text": [
            "Algorithm considered = DecisionTree100\n",
            "Accuracy = 0.9818181818181818\n",
            "Precision = 0.978623188405797\n",
            "Recall = 0.9837386285212372\n",
            "F1 Score = 0.9796547263181694\n",
            "*************\n",
            "\n",
            "Algorithm considered = DecisionTree150\n",
            "Accuracy = 0.9818181818181818\n",
            "Precision = 0.978623188405797\n",
            "Recall = 0.9847254195080282\n",
            "F1 Score = 0.9800669027941755\n",
            "*************\n",
            "\n",
            "Algorithm considered = DecisionTree10\n",
            "Accuracy = 0.9863636363636363\n",
            "Precision = 0.9831439393939394\n",
            "Recall = 0.9875697973524061\n",
            "F1 Score = 0.984435802194107\n",
            "*************\n",
            "\n",
            "Algorithm considered = DecisionTree15\n",
            "Accuracy = 0.9772727272727273\n",
            "Precision = 0.973676664341626\n",
            "Recall = 0.9806669779495867\n",
            "F1 Score = 0.9754482257218494\n",
            "*************\n",
            "\n",
            "Algorithm considered = DecisionTree200\n",
            "Accuracy = 0.9818181818181818\n",
            "Precision = 0.978623188405797\n",
            "Recall = 0.9837386285212372\n",
            "F1 Score = 0.9796547263181694\n",
            "*************\n",
            "\n",
            "Algorithm considered = DecisionTree250\n",
            "Accuracy = 0.9840909090909091\n",
            "Precision = 0.9814640974967062\n",
            "Recall = 0.9862638810464897\n",
            "F1 Score = 0.9827447397530104\n",
            "*************\n",
            "\n",
            "Algorithm considered = DecisionTree50\n",
            "Accuracy = 0.9795454545454545\n",
            "Precision = 0.9757822793148879\n",
            "Recall = 0.9822001669827757\n",
            "F1 Score = 0.9768441995714724\n",
            "*************\n",
            "\n",
            "Algorithm considered = RandomForest10\n",
            "Accuracy = 0.9954545454545455\n",
            "Precision = 0.9941287878787879\n",
            "Recall = 0.9949934123847167\n",
            "F1 Score = 0.9943888270918304\n",
            "*************\n",
            "\n",
            "Algorithm considered = RandomForest15\n",
            "Accuracy = 1.0\n",
            "Precision = 1.0\n",
            "Recall = 1.0\n",
            "F1 Score = 1.0\n",
            "Overfitting\n",
            "*************\n",
            "\n",
            "Algorithm considered = RandomForest100\n",
            "Accuracy = 1.0\n",
            "Precision = 1.0\n",
            "Recall = 1.0\n",
            "F1 Score = 1.0\n",
            "Overfitting\n",
            "*************\n",
            "\n",
            "Algorithm considered = RandomForest150\n",
            "Accuracy = 1.0\n",
            "Precision = 1.0\n",
            "Recall = 1.0\n",
            "F1 Score = 1.0\n",
            "Overfitting\n",
            "*************\n",
            "\n",
            "Algorithm considered = RandomForest200\n",
            "Accuracy = 1.0\n",
            "Precision = 1.0\n",
            "Recall = 1.0\n",
            "F1 Score = 1.0\n",
            "Overfitting\n",
            "*************\n",
            "\n",
            "Algorithm considered = RandomForest250\n",
            "Accuracy = 1.0\n",
            "Precision = 1.0\n",
            "Recall = 1.0\n",
            "F1 Score = 1.0\n",
            "Overfitting\n",
            "*************\n",
            "\n",
            "Algorithm considered = RandomForest300\n",
            "Accuracy = 1.0\n",
            "Precision = 1.0\n",
            "Recall = 1.0\n",
            "F1 Score = 1.0\n",
            "Overfitting\n",
            "*************\n",
            "\n",
            "Algorithm considered = RandomForest350\n",
            "Accuracy = 1.0\n",
            "Precision = 1.0\n",
            "Recall = 1.0\n",
            "F1 Score = 1.0\n",
            "Overfitting\n",
            "*************\n",
            "\n",
            "Algorithm considered = KNN\n",
            "Accuracy = 0.9818181818181818\n",
            "Precision = 0.9795454545454546\n",
            "Recall = 0.9835815699452063\n",
            "F1 Score = 0.9800072555084584\n",
            "*************\n",
            "\n",
            "Algorithm considered = Sherlock\n",
            "Accuracy = 1.0\n",
            "Precision = 1.0\n",
            "Recall = 1.0\n",
            "F1 Score = 1.0\n",
            "Overfitting\n",
            "*************\n",
            "\n",
            "Algorithm considered = Support Vector Machine with linear\n",
            "Accuracy = 0.9931818181818182\n",
            "Precision = 0.9912878787878788\n",
            "Recall = 0.9941460055096418\n",
            "F1 Score = 0.9923689318131632\n",
            "*************\n",
            "\n",
            "Algorithm considered = Support Vector Machines with RBF\n",
            "Accuracy = 0.9886363636363636\n",
            "Precision = 0.9880681818181819\n",
            "Recall = 0.9885982923532329\n",
            "F1 Score = 0.9878122641199186\n",
            "*************\n",
            "\n"
          ]
        }
      ]
    },
    {
      "cell_type": "code",
      "source": [
        "best_model_name_acc"
      ],
      "metadata": {
        "colab": {
          "base_uri": "https://localhost:8080/",
          "height": 35
        },
        "id": "Rz1mmt51HzAa",
        "outputId": "062e48ec-4978-4862-cabb-0afc36ccbfb6"
      },
      "execution_count": 31,
      "outputs": [
        {
          "output_type": "execute_result",
          "data": {
            "text/plain": [
              "'RandomForest10'"
            ],
            "application/vnd.google.colaboratory.intrinsic+json": {
              "type": "string"
            }
          },
          "metadata": {},
          "execution_count": 31
        }
      ]
    },
    {
      "cell_type": "code",
      "source": [
        "best_model_name_f1"
      ],
      "metadata": {
        "colab": {
          "base_uri": "https://localhost:8080/",
          "height": 35
        },
        "id": "qQhfJL3SH7cP",
        "outputId": "bf20dfe5-ffde-431b-dda6-ccbbdadd0633"
      },
      "execution_count": 32,
      "outputs": [
        {
          "output_type": "execute_result",
          "data": {
            "text/plain": [
              "'RandomForest10'"
            ],
            "application/vnd.google.colaboratory.intrinsic+json": {
              "type": "string"
            }
          },
          "metadata": {},
          "execution_count": 32
        }
      ]
    },
    {
      "cell_type": "code",
      "source": [
        "best_model_name_p"
      ],
      "metadata": {
        "colab": {
          "base_uri": "https://localhost:8080/",
          "height": 35
        },
        "id": "ypnzxyMDH-t9",
        "outputId": "f8176d50-5a87-4059-b0d0-672278345387"
      },
      "execution_count": 33,
      "outputs": [
        {
          "output_type": "execute_result",
          "data": {
            "text/plain": [
              "'RandomForest10'"
            ],
            "application/vnd.google.colaboratory.intrinsic+json": {
              "type": "string"
            }
          },
          "metadata": {},
          "execution_count": 33
        }
      ]
    },
    {
      "cell_type": "code",
      "source": [
        "best_model_name_r"
      ],
      "metadata": {
        "colab": {
          "base_uri": "https://localhost:8080/",
          "height": 35
        },
        "id": "94o44CNJICRr",
        "outputId": "d4a99b5c-38b9-45f9-f6ae-fc37f10b53ca"
      },
      "execution_count": 34,
      "outputs": [
        {
          "output_type": "execute_result",
          "data": {
            "text/plain": [
              "'RandomForest10'"
            ],
            "application/vnd.google.colaboratory.intrinsic+json": {
              "type": "string"
            }
          },
          "metadata": {},
          "execution_count": 34
        }
      ]
    },
    {
      "cell_type": "code",
      "source": [
        "import pickle\n",
        "pickle.dump(best_model_acc, open(\"model.best\", 'wb'))\n",
        "loaded_model = pickle.load(open(\"model.best\", 'rb'))\n",
        "result = loaded_model.score(xtest, ytest)\n",
        "print(result)"
      ],
      "metadata": {
        "colab": {
          "base_uri": "https://localhost:8080/"
        },
        "id": "o6evo2jqILlb",
        "outputId": "1357a562-59f4-408a-a5cd-4c01200f7576"
      },
      "execution_count": 37,
      "outputs": [
        {
          "output_type": "stream",
          "name": "stdout",
          "text": [
            "0.9954545454545455\n"
          ]
        }
      ]
    },
    {
      "cell_type": "code",
      "source": [
        "loaded_model.predict(xtest)"
      ],
      "metadata": {
        "colab": {
          "base_uri": "https://localhost:8080/"
        },
        "id": "3Am8R_1xIsHB",
        "outputId": "99ca9e47-779b-4230-fab2-77a044a7b28f"
      },
      "execution_count": 39,
      "outputs": [
        {
          "output_type": "execute_result",
          "data": {
            "text/plain": [
              "array([21,  4,  1, 11,  2, 18, 10, 15, 18,  0,  3,  1,  9, 17,  0,  8, 20,\n",
              "       21, 17,  4,  6,  0, 12, 12, 16,  0,  0, 13,  2, 13, 16, 20,  0, 12,\n",
              "        6, 14, 16,  3,  6, 19,  2, 16, 16, 14, 12,  0,  1,  1,  2, 10,  5,\n",
              "       10,  4,  0,  1, 18,  6, 20,  3, 20,  1, 18, 15, 16, 17,  1,  4, 20,\n",
              "       21,  8, 16, 16,  2,  3,  5,  7, 12, 21, 16, 14, 14,  9, 16, 13, 17,\n",
              "       20,  6, 20, 17, 21, 19, 12,  5, 18, 12, 19,  2,  7, 16, 18,  7, 17,\n",
              "        6,  6,  4, 18, 18, 17,  3, 20, 15,  9,  6,  1, 14, 16, 19, 12, 15,\n",
              "        1, 14,  5, 21, 20, 18,  5, 17,  2, 18, 15,  2,  0, 10,  3,  3, 11,\n",
              "       10, 19, 20, 12,  5, 15, 19, 16,  0, 12, 17, 18,  6,  7, 18, 10, 15,\n",
              "        1,  7, 13,  6,  9,  0,  8, 14,  0, 21, 10,  2, 15, 19,  2,  0,  9,\n",
              "       13,  9, 20,  3, 17, 20,  8, 10,  3,  6, 11,  3,  7,  5, 11, 13,  5,\n",
              "        6, 13, 16, 19,  9, 15, 11, 15,  9, 17, 17, 21, 16, 11, 11, 15, 19,\n",
              "        1, 14,  4, 18, 14,  0, 21, 10, 21,  5,  4,  8,  0, 18, 12, 12,  3,\n",
              "        7,  4, 18, 10, 11,  9,  0,  0, 10, 16, 18, 15,  6, 15, 18, 14, 18,\n",
              "        2,  1,  2,  6,  5, 12, 16, 20,  1, 15, 16,  8,  3, 13,  4,  9, 20,\n",
              "       21,  8,  7, 14, 16, 12, 21, 16, 15,  9, 18, 13,  0, 21,  7, 20,  0,\n",
              "       18, 14, 16, 15,  7, 15, 18, 18,  5,  3,  3,  1, 21,  3,  4,  5,  5,\n",
              "       20, 18, 18, 17,  9,  7,  7, 11,  8, 20,  3,  9,  6, 14,  9,  8, 16,\n",
              "        3,  5,  8, 21, 12, 21, 15, 18,  9,  3,  1,  5, 15, 21, 15,  6,  7,\n",
              "       16,  6, 19,  1,  8, 21, 19,  4, 16, 19, 10,  2,  7, 18, 16,  7,  7,\n",
              "        6, 17, 12,  4, 13,  0, 19,  4, 19,  6,  2, 10,  2, 16, 19, 20, 18,\n",
              "       17,  1, 17, 21,  4, 17, 12,  4, 18,  2, 21, 15, 14,  9,  4, 14, 15,\n",
              "        7, 20,  5, 20,  4,  7,  9, 14, 20, 13, 12, 11,  0, 19, 20, 15, 19,\n",
              "        3, 15, 16, 17,  8,  2, 12,  3,  2,  1,  6, 17,  4,  9, 13,  2,  6,\n",
              "        2,  1,  2, 19, 16,  9,  8,  6,  3, 17, 21,  8, 13,  3,  5, 10, 16,\n",
              "       13,  1, 14, 18, 15,  3, 20,  8, 11,  6, 18,  4, 19, 10,  7])"
            ]
          },
          "metadata": {},
          "execution_count": 39
        }
      ]
    }
  ]
}