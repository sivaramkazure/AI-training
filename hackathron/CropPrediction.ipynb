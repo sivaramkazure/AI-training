{
  "cells": [
    {
      "cell_type": "code",
      "source": [
        "import pandas as pd\n",
        "URL = 'https://raw.githubusercontent.com/sivaramkazure/AI-training/main/crop_recommendation.csv'\n",
        "data = pd.read_csv(URL, header=0)\n",
        "data.head()"
      ],
      "outputs": [
        {
          "output_type": "execute_result",
          "execution_count": 28,
          "data": {
            "text/plain": "   id  country code   N1   N   P   K  temperature   humidity        ph  \\\n0   1            91  100  90  42  43    20.879744  82.002744  6.502985   \n1   2            91   95  85  58  41    21.770462  80.319644  7.038096   \n2   3            91   70  60  55  44    23.004459  82.320763  7.840207   \n3   4            91   84  74  35  40    26.491096  80.158363  6.980401   \n4   5            91   88  78  42  42    20.130175  81.604873  7.628473   \n\n     rainfall label  \n0  202.935536  rice  \n1  226.655537  rice  \n2  263.964248  rice  \n3  242.864034  rice  \n4  262.717340  rice  ",
            "text/html": "<div>\n<style scoped>\n    .dataframe tbody tr th:only-of-type {\n        vertical-align: middle;\n    }\n\n    .dataframe tbody tr th {\n        vertical-align: top;\n    }\n\n    .dataframe thead th {\n        text-align: right;\n    }\n</style>\n<table border=\"1\" class=\"dataframe\">\n  <thead>\n    <tr style=\"text-align: right;\">\n      <th></th>\n      <th>id</th>\n      <th>country code</th>\n      <th>N1</th>\n      <th>N</th>\n      <th>P</th>\n      <th>K</th>\n      <th>temperature</th>\n      <th>humidity</th>\n      <th>ph</th>\n      <th>rainfall</th>\n      <th>label</th>\n    </tr>\n  </thead>\n  <tbody>\n    <tr>\n      <th>0</th>\n      <td>1</td>\n      <td>91</td>\n      <td>100</td>\n      <td>90</td>\n      <td>42</td>\n      <td>43</td>\n      <td>20.879744</td>\n      <td>82.002744</td>\n      <td>6.502985</td>\n      <td>202.935536</td>\n      <td>rice</td>\n    </tr>\n    <tr>\n      <th>1</th>\n      <td>2</td>\n      <td>91</td>\n      <td>95</td>\n      <td>85</td>\n      <td>58</td>\n      <td>41</td>\n      <td>21.770462</td>\n      <td>80.319644</td>\n      <td>7.038096</td>\n      <td>226.655537</td>\n      <td>rice</td>\n    </tr>\n    <tr>\n      <th>2</th>\n      <td>3</td>\n      <td>91</td>\n      <td>70</td>\n      <td>60</td>\n      <td>55</td>\n      <td>44</td>\n      <td>23.004459</td>\n      <td>82.320763</td>\n      <td>7.840207</td>\n      <td>263.964248</td>\n      <td>rice</td>\n    </tr>\n    <tr>\n      <th>3</th>\n      <td>4</td>\n      <td>91</td>\n      <td>84</td>\n      <td>74</td>\n      <td>35</td>\n      <td>40</td>\n      <td>26.491096</td>\n      <td>80.158363</td>\n      <td>6.980401</td>\n      <td>242.864034</td>\n      <td>rice</td>\n    </tr>\n    <tr>\n      <th>4</th>\n      <td>5</td>\n      <td>91</td>\n      <td>88</td>\n      <td>78</td>\n      <td>42</td>\n      <td>42</td>\n      <td>20.130175</td>\n      <td>81.604873</td>\n      <td>7.628473</td>\n      <td>262.717340</td>\n      <td>rice</td>\n    </tr>\n  </tbody>\n</table>\n</div>"
          },
          "metadata": {}
        }
      ],
      "execution_count": 28,
      "metadata": {
        "jupyter": {
          "source_hidden": false,
          "outputs_hidden": false
        },
        "nteract": {
          "transient": {
            "deleting": false
          }
        },
        "gather": {
          "logged": 1713332145041
        }
      }
    },
    {
      "cell_type": "code",
      "source": [
        "from sklearn.preprocessing import LabelEncoder\n",
        "from sklearn import preprocessing\n",
        "encode = preprocessing.LabelEncoder() \n",
        "data['label_encoded']= encode.fit_transform(data['label'])\n",
        "data.head() \n",
        "\n",
        "y = data['label_encoded']\n",
        "\n",
        "x = data.iloc[:, :-1]\n",
        "y.head()"
      ],
      "outputs": [
        {
          "output_type": "execute_result",
          "execution_count": 31,
          "data": {
            "text/plain": "0    20\n1    20\n2    20\n3    20\n4    20\nName: label_encoded, dtype: int64"
          },
          "metadata": {}
        }
      ],
      "execution_count": 31,
      "metadata": {
        "jupyter": {
          "source_hidden": false,
          "outputs_hidden": false
        },
        "nteract": {
          "transient": {
            "deleting": false
          }
        },
        "gather": {
          "logged": 1713332288142
        }
      }
    },
    {
      "cell_type": "code",
      "source": [
        "#correlation check\n",
        "all_col_names = list(data.columns) \n",
        "all_col_names.remove('label')\n",
        "all_col_names.remove('label_encoded')\n",
        "numbers_only = data.loc[:, all_col_names]\n",
        "cors = numbers_only.corr()\n",
        "cors"
      ],
      "outputs": [
        {
          "output_type": "execute_result",
          "execution_count": 33,
          "data": {
            "text/plain": "                    id  country code        N1         N         P         K  \\\nid            1.000000           NaN  0.282965  0.282965 -0.167593  0.143461   \ncountry code       NaN           NaN       NaN       NaN       NaN       NaN   \nN1            0.282965           NaN  1.000000  1.000000 -0.231460 -0.140512   \nN             0.282965           NaN  1.000000  1.000000 -0.231460 -0.140512   \nP            -0.167593           NaN -0.231460 -0.231460  1.000000  0.736232   \nK             0.143461           NaN -0.140512 -0.140512  0.736232  1.000000   \ntemperature   0.179543           NaN  0.026504  0.026504 -0.127541 -0.160387   \nhumidity      0.524157           NaN  0.190688  0.190688 -0.118734  0.190859   \nph            0.053330           NaN  0.096683  0.096683 -0.138019 -0.169503   \nrainfall      0.121006           NaN  0.059020  0.059020 -0.063839 -0.053461   \n\n              temperature  humidity        ph  rainfall  \nid               0.179543  0.524157  0.053330  0.121006  \ncountry code          NaN       NaN       NaN       NaN  \nN1               0.026504  0.190688  0.096683  0.059020  \nN                0.026504  0.190688  0.096683  0.059020  \nP               -0.127541 -0.118734 -0.138019 -0.063839  \nK               -0.160387  0.190859 -0.169503 -0.053461  \ntemperature      1.000000  0.205320 -0.017795 -0.030084  \nhumidity         0.205320  1.000000 -0.008483  0.094423  \nph              -0.017795 -0.008483  1.000000 -0.109069  \nrainfall        -0.030084  0.094423 -0.109069  1.000000  ",
            "text/html": "<div>\n<style scoped>\n    .dataframe tbody tr th:only-of-type {\n        vertical-align: middle;\n    }\n\n    .dataframe tbody tr th {\n        vertical-align: top;\n    }\n\n    .dataframe thead th {\n        text-align: right;\n    }\n</style>\n<table border=\"1\" class=\"dataframe\">\n  <thead>\n    <tr style=\"text-align: right;\">\n      <th></th>\n      <th>id</th>\n      <th>country code</th>\n      <th>N1</th>\n      <th>N</th>\n      <th>P</th>\n      <th>K</th>\n      <th>temperature</th>\n      <th>humidity</th>\n      <th>ph</th>\n      <th>rainfall</th>\n    </tr>\n  </thead>\n  <tbody>\n    <tr>\n      <th>id</th>\n      <td>1.000000</td>\n      <td>NaN</td>\n      <td>0.282965</td>\n      <td>0.282965</td>\n      <td>-0.167593</td>\n      <td>0.143461</td>\n      <td>0.179543</td>\n      <td>0.524157</td>\n      <td>0.053330</td>\n      <td>0.121006</td>\n    </tr>\n    <tr>\n      <th>country code</th>\n      <td>NaN</td>\n      <td>NaN</td>\n      <td>NaN</td>\n      <td>NaN</td>\n      <td>NaN</td>\n      <td>NaN</td>\n      <td>NaN</td>\n      <td>NaN</td>\n      <td>NaN</td>\n      <td>NaN</td>\n    </tr>\n    <tr>\n      <th>N1</th>\n      <td>0.282965</td>\n      <td>NaN</td>\n      <td>1.000000</td>\n      <td>1.000000</td>\n      <td>-0.231460</td>\n      <td>-0.140512</td>\n      <td>0.026504</td>\n      <td>0.190688</td>\n      <td>0.096683</td>\n      <td>0.059020</td>\n    </tr>\n    <tr>\n      <th>N</th>\n      <td>0.282965</td>\n      <td>NaN</td>\n      <td>1.000000</td>\n      <td>1.000000</td>\n      <td>-0.231460</td>\n      <td>-0.140512</td>\n      <td>0.026504</td>\n      <td>0.190688</td>\n      <td>0.096683</td>\n      <td>0.059020</td>\n    </tr>\n    <tr>\n      <th>P</th>\n      <td>-0.167593</td>\n      <td>NaN</td>\n      <td>-0.231460</td>\n      <td>-0.231460</td>\n      <td>1.000000</td>\n      <td>0.736232</td>\n      <td>-0.127541</td>\n      <td>-0.118734</td>\n      <td>-0.138019</td>\n      <td>-0.063839</td>\n    </tr>\n    <tr>\n      <th>K</th>\n      <td>0.143461</td>\n      <td>NaN</td>\n      <td>-0.140512</td>\n      <td>-0.140512</td>\n      <td>0.736232</td>\n      <td>1.000000</td>\n      <td>-0.160387</td>\n      <td>0.190859</td>\n      <td>-0.169503</td>\n      <td>-0.053461</td>\n    </tr>\n    <tr>\n      <th>temperature</th>\n      <td>0.179543</td>\n      <td>NaN</td>\n      <td>0.026504</td>\n      <td>0.026504</td>\n      <td>-0.127541</td>\n      <td>-0.160387</td>\n      <td>1.000000</td>\n      <td>0.205320</td>\n      <td>-0.017795</td>\n      <td>-0.030084</td>\n    </tr>\n    <tr>\n      <th>humidity</th>\n      <td>0.524157</td>\n      <td>NaN</td>\n      <td>0.190688</td>\n      <td>0.190688</td>\n      <td>-0.118734</td>\n      <td>0.190859</td>\n      <td>0.205320</td>\n      <td>1.000000</td>\n      <td>-0.008483</td>\n      <td>0.094423</td>\n    </tr>\n    <tr>\n      <th>ph</th>\n      <td>0.053330</td>\n      <td>NaN</td>\n      <td>0.096683</td>\n      <td>0.096683</td>\n      <td>-0.138019</td>\n      <td>-0.169503</td>\n      <td>-0.017795</td>\n      <td>-0.008483</td>\n      <td>1.000000</td>\n      <td>-0.109069</td>\n    </tr>\n    <tr>\n      <th>rainfall</th>\n      <td>0.121006</td>\n      <td>NaN</td>\n      <td>0.059020</td>\n      <td>0.059020</td>\n      <td>-0.063839</td>\n      <td>-0.053461</td>\n      <td>-0.030084</td>\n      <td>0.094423</td>\n      <td>-0.109069</td>\n      <td>1.000000</td>\n    </tr>\n  </tbody>\n</table>\n</div>"
          },
          "metadata": {}
        }
      ],
      "execution_count": 33,
      "metadata": {
        "jupyter": {
          "source_hidden": false,
          "outputs_hidden": false
        },
        "nteract": {
          "transient": {
            "deleting": false
          }
        },
        "gather": {
          "logged": 1713332312067
        }
      }
    },
    {
      "cell_type": "code",
      "source": [
        "%pip install seaborn"
      ],
      "outputs": [
        {
          "output_type": "stream",
          "name": "stdout",
          "text": "Collecting seaborn\n  Downloading seaborn-0.13.2-py3-none-any.whl (294 kB)\n\u001b[2K     \u001b[90m━━━━━━━━━━━━━━━━━━━━━━━━━━━━━━━━━━━━━━\u001b[0m \u001b[32m294.9/294.9 kB\u001b[0m \u001b[31m10.1 MB/s\u001b[0m eta \u001b[36m0:00:00\u001b[0m\n\u001b[?25hRequirement already satisfied: numpy!=1.24.0,>=1.20 in /anaconda/envs/azureml_py310_sdkv2/lib/python3.10/site-packages (from seaborn) (1.25.0)\nRequirement already satisfied: pandas>=1.2 in /anaconda/envs/azureml_py310_sdkv2/lib/python3.10/site-packages (from seaborn) (2.0.2)\nRequirement already satisfied: matplotlib!=3.6.1,>=3.4 in /anaconda/envs/azureml_py310_sdkv2/lib/python3.10/site-packages (from seaborn) (3.7.1)\nRequirement already satisfied: contourpy>=1.0.1 in /anaconda/envs/azureml_py310_sdkv2/lib/python3.10/site-packages (from matplotlib!=3.6.1,>=3.4->seaborn) (1.1.0)\nRequirement already satisfied: cycler>=0.10 in /anaconda/envs/azureml_py310_sdkv2/lib/python3.10/site-packages (from matplotlib!=3.6.1,>=3.4->seaborn) (0.11.0)\nRequirement already satisfied: fonttools>=4.22.0 in /anaconda/envs/azureml_py310_sdkv2/lib/python3.10/site-packages (from matplotlib!=3.6.1,>=3.4->seaborn) (4.40.0)\nRequirement already satisfied: kiwisolver>=1.0.1 in /anaconda/envs/azureml_py310_sdkv2/lib/python3.10/site-packages (from matplotlib!=3.6.1,>=3.4->seaborn) (1.4.4)\nRequirement already satisfied: packaging>=20.0 in /anaconda/envs/azureml_py310_sdkv2/lib/python3.10/site-packages (from matplotlib!=3.6.1,>=3.4->seaborn) (23.0)\nRequirement already satisfied: pillow>=6.2.0 in /anaconda/envs/azureml_py310_sdkv2/lib/python3.10/site-packages (from matplotlib!=3.6.1,>=3.4->seaborn) (9.5.0)\nRequirement already satisfied: pyparsing>=2.3.1 in /anaconda/envs/azureml_py310_sdkv2/lib/python3.10/site-packages (from matplotlib!=3.6.1,>=3.4->seaborn) (3.1.0)\nRequirement already satisfied: python-dateutil>=2.7 in /anaconda/envs/azureml_py310_sdkv2/lib/python3.10/site-packages (from matplotlib!=3.6.1,>=3.4->seaborn) (2.8.2)\nRequirement already satisfied: pytz>=2020.1 in /anaconda/envs/azureml_py310_sdkv2/lib/python3.10/site-packages (from pandas>=1.2->seaborn) (2023.3)\nRequirement already satisfied: tzdata>=2022.1 in /anaconda/envs/azureml_py310_sdkv2/lib/python3.10/site-packages (from pandas>=1.2->seaborn) (2023.3)\nRequirement already satisfied: six>=1.5 in /anaconda/envs/azureml_py310_sdkv2/lib/python3.10/site-packages (from python-dateutil>=2.7->matplotlib!=3.6.1,>=3.4->seaborn) (1.16.0)\nInstalling collected packages: seaborn\nSuccessfully installed seaborn-0.13.2\nNote: you may need to restart the kernel to use updated packages.\n"
        }
      ],
      "execution_count": 10,
      "metadata": {
        "jupyter": {
          "source_hidden": false,
          "outputs_hidden": false
        },
        "nteract": {
          "transient": {
            "deleting": false
          }
        }
      }
    },
    {
      "cell_type": "code",
      "source": [
        "import seaborn as sns\n",
        "sns.heatmap(cors, cmap = 'coolwarm',annot=True)\n"
      ],
      "outputs": [
        {
          "output_type": "execute_result",
          "execution_count": 34,
          "data": {
            "text/plain": "<Axes: >"
          },
          "metadata": {}
        },
        {
          "output_type": "display_data",
          "data": {
            "text/plain": "<Figure size 640x480 with 2 Axes>",
            "image/png": "[encoded data removed]"
          },
          "metadata": {}
        }
      ],
      "execution_count": 34,
      "metadata": {
        "jupyter": {
          "source_hidden": false,
          "outputs_hidden": false
        },
        "nteract": {
          "transient": {
            "deleting": false
          }
        },
        "gather": {
          "logged": 1713332323516
        }
      }
    },
    {
      "cell_type": "code",
      "source": [
        "#converting id as index\n",
        "data.set_index('id', inplace=True)"
      ],
      "outputs": [],
      "execution_count": 35,
      "metadata": {
        "jupyter": {
          "source_hidden": false,
          "outputs_hidden": false
        },
        "nteract": {
          "transient": {
            "deleting": false
          }
        },
        "gather": {
          "logged": 1713332330699
        }
      }
    },
    {
      "cell_type": "code",
      "source": [
        "#as per heat map removing \"country code\"\n",
        "#based on correlation value removing \"N1\" column as its same as \"N\" column\n",
        "x= data.iloc[:, 2:-2]\n",
        "x.head()"
      ],
      "outputs": [
        {
          "output_type": "execute_result",
          "execution_count": 36,
          "data": {
            "text/plain": "     N   P   K  temperature   humidity        ph    rainfall\nid                                                          \n1   90  42  43    20.879744  82.002744  6.502985  202.935536\n2   85  58  41    21.770462  80.319644  7.038096  226.655537\n3   60  55  44    23.004459  82.320763  7.840207  263.964248\n4   74  35  40    26.491096  80.158363  6.980401  242.864034\n5   78  42  42    20.130175  81.604873  7.628473  262.717340",
            "text/html": "<div>\n<style scoped>\n    .dataframe tbody tr th:only-of-type {\n        vertical-align: middle;\n    }\n\n    .dataframe tbody tr th {\n        vertical-align: top;\n    }\n\n    .dataframe thead th {\n        text-align: right;\n    }\n</style>\n<table border=\"1\" class=\"dataframe\">\n  <thead>\n    <tr style=\"text-align: right;\">\n      <th></th>\n      <th>N</th>\n      <th>P</th>\n      <th>K</th>\n      <th>temperature</th>\n      <th>humidity</th>\n      <th>ph</th>\n      <th>rainfall</th>\n    </tr>\n    <tr>\n      <th>id</th>\n      <th></th>\n      <th></th>\n      <th></th>\n      <th></th>\n      <th></th>\n      <th></th>\n      <th></th>\n    </tr>\n  </thead>\n  <tbody>\n    <tr>\n      <th>1</th>\n      <td>90</td>\n      <td>42</td>\n      <td>43</td>\n      <td>20.879744</td>\n      <td>82.002744</td>\n      <td>6.502985</td>\n      <td>202.935536</td>\n    </tr>\n    <tr>\n      <th>2</th>\n      <td>85</td>\n      <td>58</td>\n      <td>41</td>\n      <td>21.770462</td>\n      <td>80.319644</td>\n      <td>7.038096</td>\n      <td>226.655537</td>\n    </tr>\n    <tr>\n      <th>3</th>\n      <td>60</td>\n      <td>55</td>\n      <td>44</td>\n      <td>23.004459</td>\n      <td>82.320763</td>\n      <td>7.840207</td>\n      <td>263.964248</td>\n    </tr>\n    <tr>\n      <th>4</th>\n      <td>74</td>\n      <td>35</td>\n      <td>40</td>\n      <td>26.491096</td>\n      <td>80.158363</td>\n      <td>6.980401</td>\n      <td>242.864034</td>\n    </tr>\n    <tr>\n      <th>5</th>\n      <td>78</td>\n      <td>42</td>\n      <td>42</td>\n      <td>20.130175</td>\n      <td>81.604873</td>\n      <td>7.628473</td>\n      <td>262.717340</td>\n    </tr>\n  </tbody>\n</table>\n</div>"
          },
          "metadata": {}
        }
      ],
      "execution_count": 36,
      "metadata": {
        "jupyter": {
          "source_hidden": false,
          "outputs_hidden": false
        },
        "nteract": {
          "transient": {
            "deleting": false
          }
        },
        "gather": {
          "logged": 1713332346453
        }
      }
    },
    {
      "cell_type": "code",
      "source": [
        "#checking null values in data\n",
        "data.info()\n"
      ],
      "outputs": [
        {
          "output_type": "stream",
          "name": "stdout",
          "text": "<class 'pandas.core.frame.DataFrame'>\nIndex: 2200 entries, 1 to 2200\nData columns (total 11 columns):\n #   Column         Non-Null Count  Dtype  \n---  ------         --------------  -----  \n 0   country code   2200 non-null   int64  \n 1   N1             2200 non-null   int64  \n 2   N              2200 non-null   int64  \n 3   P              2200 non-null   int64  \n 4   K              2200 non-null   int64  \n 5   temperature    2200 non-null   float64\n 6   humidity       2200 non-null   float64\n 7   ph             2200 non-null   float64\n 8   rainfall       2200 non-null   float64\n 9   label          2200 non-null   object \n 10  label_encoded  2200 non-null   int64  \ndtypes: float64(4), int64(6), object(1)\nmemory usage: 206.2+ KB\n"
        }
      ],
      "execution_count": 37,
      "metadata": {
        "jupyter": {
          "source_hidden": false,
          "outputs_hidden": false
        },
        "nteract": {
          "transient": {
            "deleting": false
          }
        },
        "gather": {
          "logged": 1713332492475
        }
      }
    },
    {
      "cell_type": "code",
      "source": [
        "# applying z scalar model on X data\n",
        "from sklearn.model_selection import train_test_split\n",
        "xtrain, xtest, ytrain, ytest = train_test_split(x, y, test_size=0.20)\n",
        "mu = xtrain.describe().T['mean']\n",
        "sigma = xtrain.describe().T['std']\n",
        "xtrain_norm = (xtrain - mu) / sigma\n",
        "xtest_norm = (xtest - mu) / sigma\n",
        "xtrain_norm.head()"
      ],
      "outputs": [
        {
          "output_type": "execute_result",
          "execution_count": 38,
          "data": {
            "text/plain": "             N         P         K  temperature  humidity        ph  rainfall\nid                                                                           \n300  -0.037003  0.486683  0.688748    -1.416313 -2.503541  1.044514 -0.401586\n459  -0.941133  0.732388 -0.515122     1.143876 -1.597439  0.139838 -0.059830\n1690 -0.447971 -1.294685 -0.755896     1.195549  1.036934  1.174639  0.207095\n1286 -1.215111  2.298763  3.056360     0.070424  0.499953 -0.825971 -0.610528\n73    0.784934 -0.342575 -0.214154    -0.141496  0.511664  0.157841  3.493731",
            "text/html": "<div>\n<style scoped>\n    .dataframe tbody tr th:only-of-type {\n        vertical-align: middle;\n    }\n\n    .dataframe tbody tr th {\n        vertical-align: top;\n    }\n\n    .dataframe thead th {\n        text-align: right;\n    }\n</style>\n<table border=\"1\" class=\"dataframe\">\n  <thead>\n    <tr style=\"text-align: right;\">\n      <th></th>\n      <th>N</th>\n      <th>P</th>\n      <th>K</th>\n      <th>temperature</th>\n      <th>humidity</th>\n      <th>ph</th>\n      <th>rainfall</th>\n    </tr>\n    <tr>\n      <th>id</th>\n      <th></th>\n      <th></th>\n      <th></th>\n      <th></th>\n      <th></th>\n      <th></th>\n      <th></th>\n    </tr>\n  </thead>\n  <tbody>\n    <tr>\n      <th>300</th>\n      <td>-0.037003</td>\n      <td>0.486683</td>\n      <td>0.688748</td>\n      <td>-1.416313</td>\n      <td>-2.503541</td>\n      <td>1.044514</td>\n      <td>-0.401586</td>\n    </tr>\n    <tr>\n      <th>459</th>\n      <td>-0.941133</td>\n      <td>0.732388</td>\n      <td>-0.515122</td>\n      <td>1.143876</td>\n      <td>-1.597439</td>\n      <td>0.139838</td>\n      <td>-0.059830</td>\n    </tr>\n    <tr>\n      <th>1690</th>\n      <td>-0.447971</td>\n      <td>-1.294685</td>\n      <td>-0.755896</td>\n      <td>1.195549</td>\n      <td>1.036934</td>\n      <td>1.174639</td>\n      <td>0.207095</td>\n    </tr>\n    <tr>\n      <th>1286</th>\n      <td>-1.215111</td>\n      <td>2.298763</td>\n      <td>3.056360</td>\n      <td>0.070424</td>\n      <td>0.499953</td>\n      <td>-0.825971</td>\n      <td>-0.610528</td>\n    </tr>\n    <tr>\n      <th>73</th>\n      <td>0.784934</td>\n      <td>-0.342575</td>\n      <td>-0.214154</td>\n      <td>-0.141496</td>\n      <td>0.511664</td>\n      <td>0.157841</td>\n      <td>3.493731</td>\n    </tr>\n  </tbody>\n</table>\n</div>"
          },
          "metadata": {}
        }
      ],
      "execution_count": 38,
      "metadata": {
        "jupyter": {
          "source_hidden": false,
          "outputs_hidden": false
        },
        "nteract": {
          "transient": {
            "deleting": false
          }
        },
        "gather": {
          "logged": 1713332520910
        }
      }
    },
    {
      "cell_type": "code",
      "source": [
        "xtrain_norm.max()\n"
      ],
      "outputs": [
        {
          "output_type": "execute_result",
          "execution_count": 39,
          "data": {
            "text/plain": "N              2.456204\nP              2.820888\nK              3.156683\ntemperature    3.452644\nhumidity       1.277044\nph             4.541694\nrainfall       3.547485\ndtype: float64"
          },
          "metadata": {}
        }
      ],
      "execution_count": 39,
      "metadata": {
        "jupyter": {
          "source_hidden": false,
          "outputs_hidden": false
        },
        "nteract": {
          "transient": {
            "deleting": false
          }
        },
        "gather": {
          "logged": 1713332539776
        }
      }
    },
    {
      "cell_type": "code",
      "source": [
        "\n",
        "# outliers\n",
        "outliers = (xtrain_norm > 3) | (xtrain_norm < -3)\n",
        "xtrain_norm['isOutlier'] = outliers.sum(axis=1)\n",
        "all_outliers = xtrain_norm[xtrain_norm['isOutlier'] > 0]\n",
        "all_outliers.index\n",
        "     "
      ],
      "outputs": [
        {
          "output_type": "execute_result",
          "execution_count": 40,
          "data": {
            "text/plain": "Index([1286,   73, 1232, 1539, 1685, 1751, 1506, 1702, 1250, 1288,\n       ...\n       1276,  591,   76, 1545, 1287, 1240,   70, 1554,  584,   77],\n      dtype='int64', name='id', length=164)"
          },
          "metadata": {}
        }
      ],
      "execution_count": 40,
      "metadata": {
        "jupyter": {
          "source_hidden": false,
          "outputs_hidden": false
        },
        "nteract": {
          "transient": {
            "deleting": false
          }
        },
        "gather": {
          "logged": 1713332559784
        }
      }
    },
    {
      "cell_type": "code",
      "source": [
        "xtrain_norm_backup = xtrain_norm\n",
        "\n",
        "for myindex in all_outliers.index:\n",
        "  for col_name in xtrain_norm.columns:\n",
        "    datapoint = xtrain_norm.loc[myindex, [col_name]]\n",
        "    if(datapoint[0] > 3):\n",
        "      xtrain_norm.loc[myindex, [col_name]] = 3.0\n",
        "\n",
        "    if( datapoint[0] < -3 ):\n",
        "      xtrain_norm.loc[myindex, [col_name]] = -3.0\n",
        "# check again if any outliers are still present\n",
        "outliers = (xtrain_norm > 3) | (xtrain_norm < -3)\n",
        "xtrain_norm['isOutlier'] = outliers.sum(axis=1)\n",
        "all_outliers = xtrain_norm[xtrain_norm['isOutlier'] > 0]\n",
        "xtrain_norm = xtrain_norm.iloc[:, :-1]\n",
        "print('Pending outliers = ')\n",
        "print(all_outliers.index)\n",
        "xtrain_norm.columns"
      ],
      "outputs": [
        {
          "output_type": "stream",
          "name": "stdout",
          "text": "Pending outliers = \nIndex([], dtype='int64', name='id')\n"
        },
        {
          "output_type": "execute_result",
          "execution_count": 41,
          "data": {
            "text/plain": "Index(['N', 'P', 'K', 'temperature', 'humidity', 'ph', 'rainfall'], dtype='object')"
          },
          "metadata": {}
        }
      ],
      "execution_count": 41,
      "metadata": {
        "jupyter": {
          "source_hidden": false,
          "outputs_hidden": false
        },
        "nteract": {
          "transient": {
            "deleting": false
          }
        },
        "gather": {
          "logged": 1713332583357
        }
      }
    },
    {
      "cell_type": "code",
      "source": [
        "xtrain_norm.head()"
      ],
      "outputs": [
        {
          "output_type": "execute_result",
          "execution_count": 42,
          "data": {
            "text/plain": "             N         P         K  temperature  humidity        ph  rainfall\nid                                                                           \n300  -0.037003  0.486683  0.688748    -1.416313 -2.503541  1.044514 -0.401586\n459  -0.941133  0.732388 -0.515122     1.143876 -1.597439  0.139838 -0.059830\n1690 -0.447971 -1.294685 -0.755896     1.195549  1.036934  1.174639  0.207095\n1286 -1.215111  2.298763  3.000000     0.070424  0.499953 -0.825971 -0.610528\n73    0.784934 -0.342575 -0.214154    -0.141496  0.511664  0.157841  3.000000",
            "text/html": "<div>\n<style scoped>\n    .dataframe tbody tr th:only-of-type {\n        vertical-align: middle;\n    }\n\n    .dataframe tbody tr th {\n        vertical-align: top;\n    }\n\n    .dataframe thead th {\n        text-align: right;\n    }\n</style>\n<table border=\"1\" class=\"dataframe\">\n  <thead>\n    <tr style=\"text-align: right;\">\n      <th></th>\n      <th>N</th>\n      <th>P</th>\n      <th>K</th>\n      <th>temperature</th>\n      <th>humidity</th>\n      <th>ph</th>\n      <th>rainfall</th>\n    </tr>\n    <tr>\n      <th>id</th>\n      <th></th>\n      <th></th>\n      <th></th>\n      <th></th>\n      <th></th>\n      <th></th>\n      <th></th>\n    </tr>\n  </thead>\n  <tbody>\n    <tr>\n      <th>300</th>\n      <td>-0.037003</td>\n      <td>0.486683</td>\n      <td>0.688748</td>\n      <td>-1.416313</td>\n      <td>-2.503541</td>\n      <td>1.044514</td>\n      <td>-0.401586</td>\n    </tr>\n    <tr>\n      <th>459</th>\n      <td>-0.941133</td>\n      <td>0.732388</td>\n      <td>-0.515122</td>\n      <td>1.143876</td>\n      <td>-1.597439</td>\n      <td>0.139838</td>\n      <td>-0.059830</td>\n    </tr>\n    <tr>\n      <th>1690</th>\n      <td>-0.447971</td>\n      <td>-1.294685</td>\n      <td>-0.755896</td>\n      <td>1.195549</td>\n      <td>1.036934</td>\n      <td>1.174639</td>\n      <td>0.207095</td>\n    </tr>\n    <tr>\n      <th>1286</th>\n      <td>-1.215111</td>\n      <td>2.298763</td>\n      <td>3.000000</td>\n      <td>0.070424</td>\n      <td>0.499953</td>\n      <td>-0.825971</td>\n      <td>-0.610528</td>\n    </tr>\n    <tr>\n      <th>73</th>\n      <td>0.784934</td>\n      <td>-0.342575</td>\n      <td>-0.214154</td>\n      <td>-0.141496</td>\n      <td>0.511664</td>\n      <td>0.157841</td>\n      <td>3.000000</td>\n    </tr>\n  </tbody>\n</table>\n</div>"
          },
          "metadata": {}
        }
      ],
      "execution_count": 42,
      "metadata": {
        "jupyter": {
          "source_hidden": false,
          "outputs_hidden": false
        },
        "nteract": {
          "transient": {
            "deleting": false
          }
        },
        "gather": {
          "logged": 1713332620262
        }
      }
    },
    {
      "cell_type": "markdown",
      "source": [
        "Finding Best Model\n",
        "****"
      ],
      "metadata": {
        "nteract": {
          "transient": {
            "deleting": false
          }
        }
      }
    },
    {
      "cell_type": "code",
      "source": [
        "from sklearn.tree import DecisionTreeClassifier\n",
        "from sklearn.ensemble import RandomForestClassifier\n",
        "from sklearn.neighbors import KNeighborsClassifier\n",
        "from sklearn.naive_bayes import GaussianNB\n",
        "from sklearn.svm import SVC\n",
        "from sklearn.metrics import roc_auc_score\n",
        "\n",
        "# in case of trees-> we could fluctuate the depth of tree\n",
        "# in case of ensembles (forests or jungles) -> we could fluctuate no. of trees\n",
        "\n",
        "# Hyperparameters-> values that we adjust from our side as AI/ML engineers\n",
        "# -> ASSUMPTIONS from our end\n",
        "# -> these adjustments result in different models out of same algorithms!\n",
        "\n",
        "my_algos = {\n",
        "    \"DecisionTree100\": DecisionTreeClassifier(max_depth=100),\n",
        "    \"DecisionTree10\": DecisionTreeClassifier(max_depth=10),\n",
        "    \"DecisionTree200\": DecisionTreeClassifier(max_depth=200),\n",
        "    \"DecisionTree50\": DecisionTreeClassifier(max_depth=50),\n",
        "    \"RandomForest10\": RandomForestClassifier(n_estimators=10),\n",
        "    \"RandomForest100\": RandomForestClassifier(n_estimators=100),\n",
        "    \"RandomForest200\": RandomForestClassifier(n_estimators=200),\n",
        "    \"RandomForest300\": RandomForestClassifier(n_estimators=300),\n",
        "    \"KNN\" : KNeighborsClassifier(),\n",
        "    \"Sherlock\" : GaussianNB(),\n",
        "    \"Support Vector Machine with linear\" : SVC(kernel='linear'),\n",
        "    \"Support Vector Machines with RBF\": SVC(kernel='rbf')\n",
        "}"
      ],
      "outputs": [],
      "execution_count": 43,
      "metadata": {
        "jupyter": {
          "source_hidden": false,
          "outputs_hidden": false
        },
        "nteract": {
          "transient": {
            "deleting": false
          }
        },
        "gather": {
          "logged": 1713332678027
        }
      }
    },
    {
      "cell_type": "code",
      "source": [
        "from sklearn.metrics import accuracy_score, f1_score, precision_score, recall_score,roc_auc_score\n",
        "best_model_acc = None\n",
        "best_model_f1 = None\n",
        "best_model_p = None\n",
        "best_model_r = None\n",
        "best_model_auc = None\n",
        "\n",
        "best_model_name_acc = \"\"\n",
        "best_model_name_f1 = \"\"\n",
        "best_model_name_p = \"\"\n",
        "best_model_name_r = \"\"\n",
        "best_model_name_auc = \"\"\n",
        "\n",
        "\n",
        "best_acc = -1\n",
        "best_f1 = -1\n",
        "best_precision = -1\n",
        "best_recall = -1\n",
        "best_auc = -1\n",
        "\n",
        "all_accs = []\n",
        "all_f1_scores = []\n",
        "all_precions = []\n",
        "all_recalls = []\n",
        "all_aucs = []\n",
        "\n",
        "for algo_name, algo in my_algos.items():\n",
        "  print('Algorithm considered = ' + algo_name)\n",
        "  model = algo\n",
        "  model.fit(xtrain_norm, ytrain)\n",
        "  p = model.predict(xtest_norm)\n",
        "  a_score = accuracy_score(p, ytest)\n",
        "  p_score = precision_score(p, ytest, average='macro')\n",
        "  r_score = recall_score(p, ytest, average='macro')\n",
        "  f_score = f1_score(p, ytest, average='macro')\n",
        "\n",
        "\n",
        "  all_accs.append(a_score)\n",
        "  all_f1_scores.append(f_score)\n",
        "  all_precions.append(p_score)\n",
        "  all_recalls.append(r_score)\n",
        "  print('Accuracy = ' + str(a_score))\n",
        "  print('Precision = ' + str(p_score))\n",
        "  print('Recall = ' + str(r_score))\n",
        "  print('F1 Score = ' + str(f_score))\n",
        "\n",
        "  if a_score == 1.0: # if any model is 100% accurate, its a sign of overfitting\n",
        "    print('Overfitting')\n",
        "\n",
        "  else:\n",
        "    if a_score > best_acc:\n",
        "      best_acc = a_score\n",
        "      best_model_acc = algo\n",
        "      best_model_name_acc = algo_name\n",
        "    if f_score > best_f1:\n",
        "      best_f1 = f_score\n",
        "\n",
        "      best_model_f1 = algo\n",
        "      best_model_name_f1 = algo_name\n",
        "    if p_score > best_precision:\n",
        "      best_precision = p_score\n",
        "      best_model_p = algo\n",
        "      best_model_name_p = algo_name\n",
        "    if r_score > best_recall:\n",
        "      best_recall = r_score\n",
        "      best_model_r = algo\n",
        "      best_model_name_r = algo_name\n",
        "  print('*************')\n",
        "  print()"
      ],
      "outputs": [
        {
          "output_type": "stream",
          "name": "stdout",
          "text": "Algorithm considered = DecisionTree100\nAccuracy = 0.9931818181818182\nPrecision = 0.9900446775446774\nRecall = 0.989816644707949\nF1 Score = 0.9898915626856802\n*************\n\nAlgorithm considered = DecisionTree10\nAccuracy = 0.9954545454545455\nPrecision = 0.9917929292929292\nRecall = 0.9917929292929292\nF1 Score = 0.9917929292929292\n*************\n\nAlgorithm considered = DecisionTree200\nAccuracy = 0.9931818181818182\nPrecision = 0.9900446775446774\nRecall = 0.989816644707949\nF1 Score = 0.9898915626856802\n*************\n\nAlgorithm considered = DecisionTree50\nAccuracy = 0.9954545454545455\nPrecision = 0.9917929292929292\nRecall = 0.9917929292929292\nF1 Score = 0.9917929292929292\n*************\n\nAlgorithm considered = RandomForest10\nAccuracy = 0.9977272727272727\nPrecision = 0.9974747474747474\nRecall = 0.9949494949494949\nF1 Score = 0.9960275019098549\n*************\n\nAlgorithm considered = RandomForest100\nAccuracy = 0.9977272727272727\nPrecision = 0.9974747474747474\nRecall = 0.9949494949494949\nF1 Score = 0.9960275019098549\n*************\n\nAlgorithm considered = RandomForest200\nAccuracy = 0.9977272727272727\nPrecision = 0.9974747474747474\nRecall = 0.9949494949494949\nF1 Score = 0.9960275019098549\n*************\n\nAlgorithm considered = RandomForest300\nAccuracy = 0.9977272727272727\nPrecision = 0.9974747474747474\nRecall = 0.9949494949494949\nF1 Score = 0.9960275019098549\n*************\n\nAlgorithm considered = KNN\nAccuracy = 0.9659090909090909\nPrecision = 0.964579489179044\nRecall = 0.9584846602909263\nF1 Score = 0.9599035780969024\n*************\n\nAlgorithm considered = Sherlock\nAccuracy = 0.9977272727272727\nPrecision = 0.9974747474747474\nRecall = 0.9949494949494949\nF1 Score = 0.9960275019098549\n*************\n\nAlgorithm considered = Support Vector Machine with linear\nAccuracy = 0.9840909090909091\nPrecision = 0.9833771451795861\nRecall = 0.9769946828770358\nF1 Score = 0.9781587333662852\n*************\n\nAlgorithm considered = Support Vector Machines with RBF\nAccuracy = 0.9772727272727273\nPrecision = 0.9742231047755457\nRecall = 0.9689652939652939\nF1 Score = 0.9689162792532083\n*************\n\n"
        }
      ],
      "execution_count": 44,
      "metadata": {
        "jupyter": {
          "source_hidden": false,
          "outputs_hidden": false
        },
        "nteract": {
          "transient": {
            "deleting": false
          }
        },
        "gather": {
          "logged": 1713332708419
        }
      }
    },
    {
      "cell_type": "code",
      "source": [
        "best_model_name_acc"
      ],
      "outputs": [
        {
          "output_type": "execute_result",
          "execution_count": 45,
          "data": {
            "text/plain": "'RandomForest10'"
          },
          "metadata": {}
        }
      ],
      "execution_count": 45,
      "metadata": {
        "jupyter": {
          "source_hidden": false,
          "outputs_hidden": false
        },
        "nteract": {
          "transient": {
            "deleting": false
          }
        },
        "gather": {
          "logged": 1713332724520
        }
      }
    },
    {
      "cell_type": "code",
      "source": [
        "best_model_name_f1"
      ],
      "outputs": [
        {
          "output_type": "execute_result",
          "execution_count": 46,
          "data": {
            "text/plain": "'RandomForest10'"
          },
          "metadata": {}
        }
      ],
      "execution_count": 46,
      "metadata": {
        "jupyter": {
          "source_hidden": false,
          "outputs_hidden": false
        },
        "nteract": {
          "transient": {
            "deleting": false
          }
        },
        "gather": {
          "logged": 1713332731568
        }
      }
    },
    {
      "cell_type": "code",
      "source": [
        "best_model_name_p"
      ],
      "outputs": [
        {
          "output_type": "execute_result",
          "execution_count": 47,
          "data": {
            "text/plain": "'RandomForest10'"
          },
          "metadata": {}
        }
      ],
      "execution_count": 47,
      "metadata": {
        "jupyter": {
          "source_hidden": false,
          "outputs_hidden": false
        },
        "nteract": {
          "transient": {
            "deleting": false
          }
        },
        "gather": {
          "logged": 1713332738702
        }
      }
    },
    {
      "cell_type": "code",
      "source": [
        "best_model_name_r"
      ],
      "outputs": [
        {
          "output_type": "execute_result",
          "execution_count": 48,
          "data": {
            "text/plain": "'RandomForest10'"
          },
          "metadata": {}
        }
      ],
      "execution_count": 48,
      "metadata": {
        "jupyter": {
          "source_hidden": false,
          "outputs_hidden": false
        },
        "nteract": {
          "transient": {
            "deleting": false
          }
        },
        "gather": {
          "logged": 1713332749476
        }
      }
    },
    {
      "cell_type": "code",
      "source": [
        "import pickle\n",
        "pickle.dump(best_model_acc, open(\"model.best\", 'wb'))\n",
        "loaded_model = pickle.load(open(\"model.best\", 'rb'))\n",
        "result = loaded_model.score(xtest_norm, ytest)\n",
        "print(result)"
      ],
      "outputs": [
        {
          "output_type": "stream",
          "name": "stdout",
          "text": "0.9977272727272727\n"
        }
      ],
      "execution_count": 49,
      "metadata": {
        "jupyter": {
          "source_hidden": false,
          "outputs_hidden": false
        },
        "nteract": {
          "transient": {
            "deleting": false
          }
        },
        "gather": {
          "logged": 1713332782563
        }
      }
    },
    {
      "cell_type": "code",
      "source": [
        "loaded_model.predict(xtest_norm)\n"
      ],
      "outputs": [
        {
          "output_type": "execute_result",
          "execution_count": 50,
          "data": {
            "text/plain": "array([ 0,  1, 15, 11,  7,  1,  7, 21, 11,  3, 19, 10,  2,  6,  0,  9,  2,\n       11,  1,  0,  6, 18,  4,  1,  4,  3, 19, 19,  3,  1,  1, 16,  5,  1,\n       16,  0,  6, 17,  6,  4, 13, 16,  9,  3, 20, 14, 19,  3, 10,  0,  9,\n       19, 21, 14,  5,  4, 21, 11,  8,  8, 19, 18,  7, 15,  1, 10, 14, 17,\n       18, 13,  1,  5, 20, 18,  1, 20, 15, 18, 13,  7,  5, 18,  6,  9, 13,\n       12, 20, 11, 10, 18, 11, 13,  0, 12, 15,  7,  1, 11,  9,  5, 10, 15,\n        4,  1, 10,  0,  8,  5,  8,  1, 20, 13,  7, 13,  4, 15,  3, 16, 16,\n        5,  6,  6, 18, 15,  1,  3, 18,  7,  0,  2, 12, 12,  6, 13,  3,  3,\n       21, 15, 17,  4, 15, 10,  0,  0, 12,  5,  0,  0,  9, 20,  3,  6, 13,\n       10, 18,  5, 20,  6, 18,  9, 18,  6,  3, 20,  4,  0,  0, 16, 15, 11,\n       18, 11,  5,  9, 16,  6, 16, 12,  2,  1,  0,  1, 11, 11,  4,  7, 19,\n       14, 17, 21, 17, 15, 14, 14,  6,  6,  7, 10, 15, 13, 19, 15,  4,  3,\n       11, 15, 18, 11, 12, 11, 19,  5, 19, 17, 19, 13,  6,  0, 13, 10, 12,\n        8,  4, 18, 21, 18, 20,  0, 13,  9, 12, 13,  3, 18,  6, 15, 18,  7,\n       17,  0, 13,  6, 16, 17, 10, 14, 18, 21,  0, 16, 18, 16, 14, 17, 21,\n       19,  2, 18, 14, 20, 17, 12, 18,  9,  4, 15, 20, 16, 13,  5, 15, 18,\n       12,  7, 13, 11, 15, 19,  8,  5, 19, 12, 19,  6, 14, 17, 16, 14,  0,\n        8, 10,  0, 21, 13,  2, 21,  7, 10, 21, 16,  4,  5, 13, 10, 16, 13,\n       20, 13, 11,  7, 15,  4,  3,  0,  2, 13, 18, 20, 15,  8,  9,  5,  1,\n        3,  6,  1,  1, 15, 13,  7,  5,  5,  6, 17,  9,  4, 11,  2,  5,  6,\n        6,  9, 21, 21, 15, 11,  3,  5, 13,  6, 13,  5,  2, 19, 16,  4,  4,\n       15, 13,  1,  7, 11, 18, 12, 16, 21, 20,  8,  2, 17,  9, 14,  5, 18,\n       20, 20, 21, 13,  7,  4, 19,  1,  1,  4, 18, 19, 14,  7, 15, 14, 16,\n        1, 14, 13, 20,  0,  7,  4, 10,  3,  1, 10, 17,  7, 21, 11, 11, 21,\n        1,  2, 19,  0,  6, 19, 21,  6, 12, 14, 13, 12, 17,  0, 17,  2, 13,\n       13,  4,  3,  7, 11,  9,  1, 10,  3, 16, 14,  6,  0, 21, 21])"
          },
          "metadata": {}
        }
      ],
      "execution_count": 50,
      "metadata": {
        "jupyter": {
          "source_hidden": false,
          "outputs_hidden": false
        },
        "nteract": {
          "transient": {
            "deleting": false
          }
        },
        "gather": {
          "logged": 1713332801904
        }
      }
    },
    {
      "cell_type": "markdown",
      "source": [
        "Testing"
      ],
      "metadata": {
        "nteract": {
          "transient": {
            "deleting": false
          }
        }
      }
    },
    {
      "cell_type": "code",
      "source": [
        "xtest_norm.head(1)"
      ],
      "outputs": [
        {
          "output_type": "execute_result",
          "execution_count": 52,
          "data": {
            "text/plain": "             N         P         K  temperature  humidity        ph  rainfall\nid                                                                           \n1565 -0.913735  2.544469  2.976102    -0.336116  0.853904 -0.768968 -0.014141",
            "text/html": "<div>\n<style scoped>\n    .dataframe tbody tr th:only-of-type {\n        vertical-align: middle;\n    }\n\n    .dataframe tbody tr th {\n        vertical-align: top;\n    }\n\n    .dataframe thead th {\n        text-align: right;\n    }\n</style>\n<table border=\"1\" class=\"dataframe\">\n  <thead>\n    <tr style=\"text-align: right;\">\n      <th></th>\n      <th>N</th>\n      <th>P</th>\n      <th>K</th>\n      <th>temperature</th>\n      <th>humidity</th>\n      <th>ph</th>\n      <th>rainfall</th>\n    </tr>\n    <tr>\n      <th>id</th>\n      <th></th>\n      <th></th>\n      <th></th>\n      <th></th>\n      <th></th>\n      <th></th>\n      <th></th>\n    </tr>\n  </thead>\n  <tbody>\n    <tr>\n      <th>1565</th>\n      <td>-0.913735</td>\n      <td>2.544469</td>\n      <td>2.976102</td>\n      <td>-0.336116</td>\n      <td>0.853904</td>\n      <td>-0.768968</td>\n      <td>-0.014141</td>\n    </tr>\n  </tbody>\n</table>\n</div>"
          },
          "metadata": {}
        }
      ],
      "execution_count": 52,
      "metadata": {
        "jupyter": {
          "source_hidden": false,
          "outputs_hidden": false
        },
        "nteract": {
          "transient": {
            "deleting": false
          }
        },
        "gather": {
          "logged": 1713332869791
        }
      }
    },
    {
      "cell_type": "code",
      "source": [
        "loaded_model.predict(xtest_norm.head(1))"
      ],
      "outputs": [
        {
          "output_type": "execute_result",
          "execution_count": 53,
          "data": {
            "text/plain": "array([0])"
          },
          "metadata": {}
        }
      ],
      "execution_count": 53,
      "metadata": {
        "jupyter": {
          "source_hidden": false,
          "outputs_hidden": false
        },
        "nteract": {
          "transient": {
            "deleting": false
          }
        },
        "gather": {
          "logged": 1713332896148
        }
      }
    },
    {
      "cell_type": "code",
      "source": [
        "record  = data.iloc[1565]\n",
        "record"
      ],
      "outputs": [
        {
          "output_type": "execute_result",
          "execution_count": 57,
          "data": {
            "text/plain": "country code             91\nN1                       43\nN                        33\nP                       134\nK                       205\ntemperature       21.036527\nhumidity          94.339195\nph                 6.085519\nrainfall         114.741273\nlabel                 apple\nlabel_encoded             0\nName: 1566, dtype: object"
          },
          "metadata": {}
        }
      ],
      "execution_count": 57,
      "metadata": {
        "jupyter": {
          "source_hidden": false,
          "outputs_hidden": false
        },
        "nteract": {
          "transient": {
            "deleting": false
          }
        },
        "gather": {
          "logged": 1713333301789
        }
      }
    },
    {
      "cell_type": "code",
      "source": [
        "record  = data.iloc[1565]# taken id from test_norm data\n",
        "record[\"label\"]"
      ],
      "outputs": [
        {
          "output_type": "execute_result",
          "execution_count": 55,
          "data": {
            "text/plain": "'apple'"
          },
          "metadata": {}
        }
      ],
      "execution_count": 55,
      "metadata": {
        "jupyter": {
          "source_hidden": false,
          "outputs_hidden": false
        },
        "nteract": {
          "transient": {
            "deleting": false
          }
        },
        "gather": {
          "logged": 1713332976387
        }
      }
    }
  ],
  "metadata": {
    "kernelspec": {
      "name": "python310-sdkv2",
      "language": "python",
      "display_name": "Python 3.10 - SDK v2"
    },
    "language_info": {
      "name": "python",
      "version": "3.10.11",
      "mimetype": "text/x-python",
      "codemirror_mode": {
        "name": "ipython",
        "version": 3
      },
      "pygments_lexer": "ipython3",
      "nbconvert_exporter": "python",
      "file_extension": ".py"
    },
    "microsoft": {
      "ms_spell_check": {
        "ms_spell_check_language": "en"
      },
      "host": {
        "AzureML": {
          "notebookHasBeenCompleted": true
        }
      }
    },
    "kernel_info": {
      "name": "python310-sdkv2"
    },
    "nteract": {
      "version": "nteract-front-end@1.0.0"
    }
  },
  "nbformat": 4,
  "nbformat_minor": 2
}